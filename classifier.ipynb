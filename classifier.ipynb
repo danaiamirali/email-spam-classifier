{
 "cells": [
  {
   "attachments": {},
   "cell_type": "markdown",
   "metadata": {},
   "source": [
    "# Linear Regression Email Spam Classifier\n",
    "\n",
    "### 1. Fetch Spam Assassin Data\n",
    "\n",
    "HAM and SPAM represent non-spam and spam emails respectively.\n"
   ]
  },
  {
   "cell_type": "code",
   "execution_count": 4,
   "metadata": {},
   "outputs": [],
   "source": [
    "import os \n",
    "import shutil\n",
    "from download_module import DataDownloader"
   ]
  },
  {
   "cell_type": "code",
   "execution_count": 2,
   "metadata": {},
   "outputs": [],
   "source": [
    "# Set up variables for downloading the data\n",
    "\n",
    "DOWNLOAD_ROOT = \"http://spamassassin.apache.org/old/publiccorpus/\"\n",
    "HAM_FILE = \"20030228_easy_ham.tar.bz2\"\n",
    "SPAM_FILE = \"20030228_spam.tar.bz2\"\n",
    "HAM_URL = DOWNLOAD_ROOT + HAM_FILE\n",
    "SPAM_URL = DOWNLOAD_ROOT + SPAM_FILE\n",
    "SPAM_PATH = os.path.join(\"datasets\", \"spam\") # datasets/spam\n",
    "HAM_PATH = os.path.join(\"datasets\", \"ham\") # datasets/ham"
   ]
  },
  {
   "cell_type": "code",
   "execution_count": 19,
   "metadata": {},
   "outputs": [
    {
     "name": "stdout",
     "output_type": "stream",
     "text": [
      "Ctor called\n",
      "Downloading 20030228_easy_ham.tar.bz2... to datasets/20030228_easy_ham.tar.bz2\n",
      "Filetype:  bz2\n",
      "Done!\n",
      "Downloading 20030228_spam.tar.bz2... to datasets/20030228_spam.tar.bz2\n",
      "Filetype:  bz2\n",
      "Done!\n"
     ]
    }
   ],
   "source": [
    "# Create a DataDownloader object and download the files\n",
    "\n",
    "data = DataDownloader(DOWNLOAD_ROOT, [HAM_FILE, SPAM_FILE])\n",
    "data.download()"
   ]
  },
  {
   "cell_type": "code",
   "execution_count": 21,
   "metadata": {},
   "outputs": [],
   "source": [
    "# Modify file directory for convenience\n",
    "\n",
    "sources = [\"datasets/20030228_easy_ham.tar.bz2/easy_ham\", \"datasets/20030228_spam.tar.bz2/spam\"]\n",
    "for source in sources: \n",
    "    shutil.move(source, \"datasets\", copy_function=shutil.copytree)\n",
    "    os.rmdir(os.path.dirname(source))\n",
    "    # print(os.path.dirname(source))"
   ]
  },
  {
   "attachments": {},
   "cell_type": "markdown",
   "metadata": {},
   "source": [
    "### 2. Parsing Data"
   ]
  },
  {
   "cell_type": "code",
   "execution_count": 28,
   "metadata": {},
   "outputs": [],
   "source": [
    "import email\n",
    "import pandas as pd\n",
    "import numpy as np"
   ]
  },
  {
   "cell_type": "code",
   "execution_count": 34,
   "metadata": {},
   "outputs": [],
   "source": [
    "# Assemble pd database from parsing\n",
    "\n",
    "content = []\n",
    "# Loop through ham and spam\n",
    "for ham_or_spam in os.listdir(\"datasets/\"):\n",
    "    for file in os.listdir(\"datasets/\" + ham_or_spam):\n",
    "        path_to_email = os.path.join(\"datasets\", ham_or_spam, file)\n",
    "        with open(path_to_email, \"rb\") as email_file:\n",
    "            # Parse the email message using the email package\n",
    "            message = email.message_from_binary_file(email_file)\n",
    "\n",
    "            # Get the subject of the email\n",
    "            subject = message[\"Subject\"]\n",
    "\n",
    "            # Get the sender of the email\n",
    "            sender = message[\"From\"]\n",
    "\n",
    "            # Get the recipient(s) of the email\n",
    "            recipients = message[\"To\"]\n",
    "\n",
    "            # Get the body of the email\n",
    "            if message.is_multipart():\n",
    "                for part in message.walk():\n",
    "                    content_type = part.get_content_type()\n",
    "                    content_disposition = str(part.get(\"Content-Disposition\"))\n",
    "                    if content_type == \"text/plain\" and \"attachment\" not in content_disposition:\n",
    "                        body = part.get_payload()\n",
    "                        break\n",
    "            else:\n",
    "                body = message.get_payload()\n",
    "            \n",
    "            content.append([subject, sender, body, recipients, 1 if ham_or_spam == \"spam\" else 0])\n"
   ]
  },
  {
   "cell_type": "code",
   "execution_count": 39,
   "metadata": {},
   "outputs": [
    {
     "data": {
      "text/html": [
       "<div>\n",
       "<style scoped>\n",
       "    .dataframe tbody tr th:only-of-type {\n",
       "        vertical-align: middle;\n",
       "    }\n",
       "\n",
       "    .dataframe tbody tr th {\n",
       "        vertical-align: top;\n",
       "    }\n",
       "\n",
       "    .dataframe thead th {\n",
       "        text-align: right;\n",
       "    }\n",
       "</style>\n",
       "<table border=\"1\" class=\"dataframe\">\n",
       "  <thead>\n",
       "    <tr style=\"text-align: right;\">\n",
       "      <th></th>\n",
       "      <th>Subject</th>\n",
       "      <th>Sender</th>\n",
       "      <th>Body</th>\n",
       "      <th>Recipient</th>\n",
       "      <th>Spam</th>\n",
       "    </tr>\n",
       "  </thead>\n",
       "  <tbody>\n",
       "    <tr>\n",
       "      <th>0</th>\n",
       "      <td>Re: New Sequences Window</td>\n",
       "      <td>Robert Elz &lt;kre@munnari.OZ.AU&gt;</td>\n",
       "      <td>Date:        Wed, 21 Aug 2002 10:54:46 -05...</td>\n",
       "      <td>Chris Garrigues &lt;cwg-dated-1030377287.06fa6d@D...</td>\n",
       "      <td>0</td>\n",
       "    </tr>\n",
       "    <tr>\n",
       "      <th>1</th>\n",
       "      <td>[zzzzteana] RE: Alexander</td>\n",
       "      <td>Steve Burt &lt;Steve_Burt@cursor-system.com&gt;</td>\n",
       "      <td>Martin A posted:\\nTassos Papadopoulos, the Gre...</td>\n",
       "      <td>\"'zzzzteana@yahoogroups.com'\" &lt;zzzzteana@yahoo...</td>\n",
       "      <td>0</td>\n",
       "    </tr>\n",
       "    <tr>\n",
       "      <th>2</th>\n",
       "      <td>[zzzzteana] Moscow bomber</td>\n",
       "      <td>\"Tim Chapman\" &lt;timc@2ubh.com&gt;</td>\n",
       "      <td>Man Threatens Explosion In Moscow \\n\\nThursday...</td>\n",
       "      <td>zzzzteana &lt;zzzzteana@yahoogroups.com&gt;</td>\n",
       "      <td>0</td>\n",
       "    </tr>\n",
       "    <tr>\n",
       "      <th>3</th>\n",
       "      <td>[IRR] Klez: The Virus That  Won't Die</td>\n",
       "      <td>Monty Solomon &lt;monty@roscom.com&gt;</td>\n",
       "      <td>Klez: The Virus That Won't Die\\n \\nAlready the...</td>\n",
       "      <td>undisclosed-recipient: ;</td>\n",
       "      <td>0</td>\n",
       "    </tr>\n",
       "    <tr>\n",
       "      <th>4</th>\n",
       "      <td>Re: [zzzzteana] Nothing like mama used to make</td>\n",
       "      <td>Stewart Smith &lt;Stewart.Smith@ee.ed.ac.uk&gt;</td>\n",
       "      <td>&gt;  in adding cream to spaghetti carbonara, whi...</td>\n",
       "      <td>zzzzteana@yahoogroups.com</td>\n",
       "      <td>0</td>\n",
       "    </tr>\n",
       "  </tbody>\n",
       "</table>\n",
       "</div>"
      ],
      "text/plain": [
       "                                          Subject  \\\n",
       "0                        Re: New Sequences Window   \n",
       "1                       [zzzzteana] RE: Alexander   \n",
       "2                       [zzzzteana] Moscow bomber   \n",
       "3           [IRR] Klez: The Virus That  Won't Die   \n",
       "4  Re: [zzzzteana] Nothing like mama used to make   \n",
       "\n",
       "                                      Sender  \\\n",
       "0             Robert Elz <kre@munnari.OZ.AU>   \n",
       "1  Steve Burt <Steve_Burt@cursor-system.com>   \n",
       "2              \"Tim Chapman\" <timc@2ubh.com>   \n",
       "3           Monty Solomon <monty@roscom.com>   \n",
       "4  Stewart Smith <Stewart.Smith@ee.ed.ac.uk>   \n",
       "\n",
       "                                                Body  \\\n",
       "0      Date:        Wed, 21 Aug 2002 10:54:46 -05...   \n",
       "1  Martin A posted:\\nTassos Papadopoulos, the Gre...   \n",
       "2  Man Threatens Explosion In Moscow \\n\\nThursday...   \n",
       "3  Klez: The Virus That Won't Die\\n \\nAlready the...   \n",
       "4  >  in adding cream to spaghetti carbonara, whi...   \n",
       "\n",
       "                                           Recipient Spam  \n",
       "0  Chris Garrigues <cwg-dated-1030377287.06fa6d@D...    0  \n",
       "1  \"'zzzzteana@yahoogroups.com'\" <zzzzteana@yahoo...    0  \n",
       "2              zzzzteana <zzzzteana@yahoogroups.com>    0  \n",
       "3                           undisclosed-recipient: ;    0  \n",
       "4                          zzzzteana@yahoogroups.com    0  "
      ]
     },
     "execution_count": 39,
     "metadata": {},
     "output_type": "execute_result"
    }
   ],
   "source": [
    "data_representation = np.array(content)\n",
    "df = pd.DataFrame(data_representation, columns = [\"Subject\", \"Sender\", \"Body\", \"Recipient\", \"Spam\"])\n",
    "df.head()\n"
   ]
  },
  {
   "attachments": {},
   "cell_type": "markdown",
   "metadata": {},
   "source": [
    "### 3. Data Exploration"
   ]
  },
  {
   "cell_type": "code",
   "execution_count": 40,
   "metadata": {},
   "outputs": [
    {
     "data": {
      "text/html": [
       "<div>\n",
       "<style scoped>\n",
       "    .dataframe tbody tr th:only-of-type {\n",
       "        vertical-align: middle;\n",
       "    }\n",
       "\n",
       "    .dataframe tbody tr th {\n",
       "        vertical-align: top;\n",
       "    }\n",
       "\n",
       "    .dataframe thead th {\n",
       "        text-align: right;\n",
       "    }\n",
       "</style>\n",
       "<table border=\"1\" class=\"dataframe\">\n",
       "  <thead>\n",
       "    <tr style=\"text-align: right;\">\n",
       "      <th></th>\n",
       "      <th>Subject</th>\n",
       "      <th>Sender</th>\n",
       "      <th>Body</th>\n",
       "      <th>Recipient</th>\n",
       "      <th>Spam</th>\n",
       "    </tr>\n",
       "  </thead>\n",
       "  <tbody>\n",
       "    <tr>\n",
       "      <th>2501</th>\n",
       "      <td>Life Insurance - Why Pay More?</td>\n",
       "      <td>12a1mailbot1@web.de</td>\n",
       "      <td>&lt;!DOCTYPE HTML PUBLIC \"-//W3C//DTD HTML 4.0 Tr...</td>\n",
       "      <td>&lt;dcek1a1@netsgo.com&gt;</td>\n",
       "      <td>1</td>\n",
       "    </tr>\n",
       "    <tr>\n",
       "      <th>2502</th>\n",
       "      <td>[ILUG] Guaranteed to lose 10-12 lbs in 30 days...</td>\n",
       "      <td>\"Slim Down\" &lt;taylor@s3.serveimage.com&gt;</td>\n",
       "      <td>1) Fight The Risk of Cancer!\\nhttp://www.adcli...</td>\n",
       "      <td>&lt;ilug@linux.ie&gt;</td>\n",
       "      <td>1</td>\n",
       "    </tr>\n",
       "    <tr>\n",
       "      <th>2503</th>\n",
       "      <td>Guaranteed to lose 10-12 lbs in 30 days       ...</td>\n",
       "      <td>\"Slim Down\" &lt;sabrina@mx3.1premio.com&gt;</td>\n",
       "      <td>1) Fight The Risk of Cancer!\\nhttp://www.adcli...</td>\n",
       "      <td>&lt;zzzz@spamassassin.taint.org&gt;</td>\n",
       "      <td>1</td>\n",
       "    </tr>\n",
       "    <tr>\n",
       "      <th>2504</th>\n",
       "      <td>Re: Fw: User Name &amp; Password to Membership To ...</td>\n",
       "      <td>Account Services &lt;wsup@playful.com&gt;</td>\n",
       "      <td>##############################################...</td>\n",
       "      <td>zzzz@spamassassin.taint.org</td>\n",
       "      <td>1</td>\n",
       "    </tr>\n",
       "    <tr>\n",
       "      <th>2505</th>\n",
       "      <td>[ILUG-Social] re: Guaranteed to lose 10-12 lbs...</td>\n",
       "      <td>\"Slim n Trim\" &lt;yenene@mx2.1premio.com&gt;</td>\n",
       "      <td>I thought you might like these:\\n1) Slim Down ...</td>\n",
       "      <td>&lt;social@linux.ie&gt;</td>\n",
       "      <td>1</td>\n",
       "    </tr>\n",
       "  </tbody>\n",
       "</table>\n",
       "</div>"
      ],
      "text/plain": [
       "                                                Subject  \\\n",
       "2501                     Life Insurance - Why Pay More?   \n",
       "2502  [ILUG] Guaranteed to lose 10-12 lbs in 30 days...   \n",
       "2503  Guaranteed to lose 10-12 lbs in 30 days       ...   \n",
       "2504  Re: Fw: User Name & Password to Membership To ...   \n",
       "2505  [ILUG-Social] re: Guaranteed to lose 10-12 lbs...   \n",
       "\n",
       "                                      Sender  \\\n",
       "2501                     12a1mailbot1@web.de   \n",
       "2502  \"Slim Down\" <taylor@s3.serveimage.com>   \n",
       "2503   \"Slim Down\" <sabrina@mx3.1premio.com>   \n",
       "2504     Account Services <wsup@playful.com>   \n",
       "2505  \"Slim n Trim\" <yenene@mx2.1premio.com>   \n",
       "\n",
       "                                                   Body  \\\n",
       "2501  <!DOCTYPE HTML PUBLIC \"-//W3C//DTD HTML 4.0 Tr...   \n",
       "2502  1) Fight The Risk of Cancer!\\nhttp://www.adcli...   \n",
       "2503  1) Fight The Risk of Cancer!\\nhttp://www.adcli...   \n",
       "2504  ##############################################...   \n",
       "2505  I thought you might like these:\\n1) Slim Down ...   \n",
       "\n",
       "                          Recipient Spam  \n",
       "2501           <dcek1a1@netsgo.com>    1  \n",
       "2502                <ilug@linux.ie>    1  \n",
       "2503  <zzzz@spamassassin.taint.org>    1  \n",
       "2504    zzzz@spamassassin.taint.org    1  \n",
       "2505              <social@linux.ie>    1  "
      ]
     },
     "execution_count": 40,
     "metadata": {},
     "output_type": "execute_result"
    }
   ],
   "source": [
    "df[df[\"Spam\"]==1].head()"
   ]
  },
  {
   "cell_type": "code",
   "execution_count": 47,
   "metadata": {},
   "outputs": [
    {
     "name": "stdout",
     "output_type": "stream",
     "text": [
      "The Scotsman - 22 August 2002\n",
      "\n",
      " Playboy wants to go out with a bang \n",
      " \n",
      " \n",
      " AN AGEING Berlin playboy has come up with an unusual offer to lure women into\n",
      " his bed - by promising the last woman he sleeps with an inheritance of 250,000\n",
      " (£160,000). \n",
      " \n",
      " Rolf Eden, 72, a Berlin disco owner famous for his countless sex partners,\n",
      " said he could imagine no better way to die than in the arms of an attractive\n",
      " young woman - preferably under 30. \n",
      " \n",
      " \"I put it all in my last will and testament - the last woman who sleeps with\n",
      " me gets all the money,\" Mr Eden told Bild newspaper. \n",
      " \n",
      " \"I want to pass away in the most beautiful moment of my life. First a lot of\n",
      " fun with a beautiful woman, then wild sex, a final orgasm - and it will all\n",
      " end with a heart attack and then Im gone.\" \n",
      " \n",
      " Mr Eden, who is selling his nightclub this year, said applications should be\n",
      " sent in quickly because of his age. \"It could end very soon,\" he said.\n",
      "\n",
      "\n",
      "------------------------ Yahoo! Groups Sponsor ---------------------~-->\n",
      "4 DVDs Free +s&p Join Now\n",
      "http://us.click.yahoo.com/pt6YBB/NXiEAA/mG3HAA/7gSolB/TM\n",
      "---------------------------------------------------------------------~->\n",
      "\n",
      "To unsubscribe from this group, send an email to:\n",
      "forteana-unsubscribe@egroups.com\n",
      "\n",
      " \n",
      "\n",
      "Your use of Yahoo! Groups is subject to http://docs.yahoo.com/info/terms/\n"
     ]
    }
   ],
   "source": [
    "print(df.iloc[6][\"Body\"].strip())"
   ]
  },
  {
   "cell_type": "code",
   "execution_count": 56,
   "metadata": {},
   "outputs": [
    {
     "name": "stdout",
     "output_type": "stream",
     "text": [
      "    Date:        Wed, 21 Aug 2002 10:54:46 -0500\n",
      "    From:        Chris Garrigues <cwg-dated-1030377287.06fa6d@DeepEddy.Com>\n",
      "    Message-ID:  <1029945287.4797.TMDA@deepeddy.vircio.com>\n",
      "\n",
      "\n",
      "  | I can't reproduce this error.\n",
      "\n",
      "For me it is very repeatable... (like every time, without fail).\n",
      "\n",
      "This is the debug log of the pick happening ...\n",
      "\n",
      "18:19:03 Pick_It {exec pick +inbox -list -lbrace -lbrace -subject ftp -rbrace -rbrace} {4852-4852 -sequence mercury}\n",
      "18:19:03 exec pick +inbox -list -lbrace -lbrace -subject ftp -rbrace -rbrace 4852-4852 -sequence mercury\n",
      "18:19:04 Ftoc_PickMsgs {{1 hit}}\n",
      "18:19:04 Marking 1 hits\n",
      "18:19:04 tkerror: syntax error in expression \"int ...\n",
      "\n",
      "Note, if I run the pick command by hand ...\n",
      "\n",
      "delta$ pick +inbox -list -lbrace -lbrace -subject ftp -rbrace -rbrace  4852-4852 -sequence mercury\n",
      "1 hit\n",
      "\n",
      "That's where the \"1 hit\" comes from (obviously).  The version of nmh I'm\n",
      "using is ...\n",
      "\n",
      "delta$ pick -version\n",
      "pick -- nmh-1.0.4 [compiled on fuchsia.cs.mu.OZ.AU at Sun Mar 17 14:55:56 ICT 2002]\n",
      "\n",
      "And the relevant part of my .mh_profile ...\n",
      "\n",
      "delta$ mhparam pick\n",
      "-seq sel -list\n",
      "\n",
      "\n",
      "Since the pick command works, the sequence (actually, both of them, the\n",
      "one that's explicit on the command line, from the search popup, and the\n",
      "one that comes from .mh_profile) do get created.\n",
      "\n",
      "kre\n",
      "\n",
      "ps: this is still using the version of the code form a day ago, I haven't\n",
      "been able to reach the cvs repository today (local routing issue I think).\n",
      "\n",
      "\n",
      "\n",
      "_______________________________________________\n",
      "Exmh-workers mailing list\n",
      "Exmh-workers@redhat.com\n",
      "https://listman.redhat.com/mailman/listinfo/exmh-workers\n",
      "\n",
      "\n"
     ]
    }
   ],
   "source": [
    "print(df.iloc[0][\"Body\"])"
   ]
  },
  {
   "cell_type": "code",
   "execution_count": 45,
   "metadata": {},
   "outputs": [],
   "source": [
    "from sklearn.model_selection import train_test_split"
   ]
  },
  {
   "cell_type": "code",
   "execution_count": 46,
   "metadata": {},
   "outputs": [],
   "source": [
    "X_train, X_test, Y_train, Y_test = train_test_split(df[\"Body\"], df[\"Spam\"], test_size=0.2, random_state=42)"
   ]
  }
 ],
 "metadata": {
  "kernelspec": {
   "display_name": "Python 3",
   "language": "python",
   "name": "python3"
  },
  "language_info": {
   "codemirror_mode": {
    "name": "ipython",
    "version": 3
   },
   "file_extension": ".py",
   "mimetype": "text/x-python",
   "name": "python",
   "nbconvert_exporter": "python",
   "pygments_lexer": "ipython3",
   "version": "3.10.11"
  },
  "orig_nbformat": 4
 },
 "nbformat": 4,
 "nbformat_minor": 2
}
