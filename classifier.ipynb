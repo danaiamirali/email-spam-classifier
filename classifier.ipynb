{
 "cells": [
  {
   "attachments": {},
   "cell_type": "markdown",
   "metadata": {},
   "source": [
    "# Linear Regression Email Spam Classifier\n",
    "\n",
    "### 1. Fetch Spam Assassin Data\n",
    "\n",
    "HAM and SPAM represent non-spam and spam emails respectively.\n"
   ]
  },
  {
   "cell_type": "code",
   "execution_count": 1,
   "metadata": {},
   "outputs": [],
   "source": [
    "import os \n",
    "import shutil\n",
    "from modules.download import DataDownloader"
   ]
  },
  {
   "cell_type": "code",
   "execution_count": 2,
   "metadata": {},
   "outputs": [],
   "source": [
    "# Set up variables for downloading the data\n",
    "\n",
    "DOWNLOAD_ROOT = \"http://spamassassin.apache.org/old/publiccorpus/\"\n",
    "HAM_FILE = \"20030228_easy_ham.tar.bz2\"\n",
    "SPAM_FILE = \"20030228_spam.tar.bz2\"\n",
    "HAM_URL = DOWNLOAD_ROOT + HAM_FILE\n",
    "SPAM_URL = DOWNLOAD_ROOT + SPAM_FILE\n",
    "SPAM_PATH = os.path.join(\"datasets\", \"spam\") # datasets/spam\n",
    "HAM_PATH = os.path.join(\"datasets\", \"ham\") # datasets/ham"
   ]
  },
  {
   "cell_type": "code",
   "execution_count": 19,
   "metadata": {},
   "outputs": [
    {
     "name": "stdout",
     "output_type": "stream",
     "text": [
      "Ctor called\n",
      "Downloading 20030228_easy_ham.tar.bz2... to datasets/20030228_easy_ham.tar.bz2\n",
      "Filetype:  bz2\n",
      "Done!\n",
      "Downloading 20030228_spam.tar.bz2... to datasets/20030228_spam.tar.bz2\n",
      "Filetype:  bz2\n",
      "Done!\n"
     ]
    }
   ],
   "source": [
    "# Create a DataDownloader object and download the files\n",
    "\n",
    "data = DataDownloader(DOWNLOAD_ROOT, [HAM_FILE, SPAM_FILE])\n",
    "data.download()"
   ]
  },
  {
   "cell_type": "code",
   "execution_count": null,
   "metadata": {},
   "outputs": [],
   "source": [
    "# Modify file directory for convenience\n",
    "\n",
    "sources = [\"datasets/20030228_easy_ham.tar.bz2/easy_ham\", \"datasets/20030228_spam.tar.bz2/spam\"]\n",
    "for source in sources: \n",
    "    shutil.move(source, \"datasets\", copy_function=shutil.copytree)\n",
    "    os.rmdir(os.path.dirname(source))\n",
    "    # print(os.path.dirname(source))"
   ]
  },
  {
   "attachments": {},
   "cell_type": "markdown",
   "metadata": {},
   "source": [
    "### 2. Parsing Data"
   ]
  },
  {
   "cell_type": "code",
   "execution_count": 4,
   "metadata": {},
   "outputs": [],
   "source": [
    "import email\n",
    "import pandas as pd\n",
    "import numpy as np"
   ]
  },
  {
   "cell_type": "code",
   "execution_count": 5,
   "metadata": {},
   "outputs": [],
   "source": [
    "# Assemble pd database from parsing\n",
    "\n",
    "content = []\n",
    "# Loop through ham and spam\n",
    "for ham_or_spam in os.listdir(\"datasets/\"):\n",
    "    for file in os.listdir(\"datasets/\" + ham_or_spam):\n",
    "        path_to_email = os.path.join(\"datasets\", ham_or_spam, file)\n",
    "        with open(path_to_email, \"rb\") as email_file:\n",
    "            # Parse the email message using the email package\n",
    "            message = email.message_from_binary_file(email_file)\n",
    "\n",
    "            # Get the subject of the email\n",
    "            subject = message[\"Subject\"]\n",
    "\n",
    "            # Get the sender of the email\n",
    "            sender = message[\"From\"]\n",
    "\n",
    "            # Get the recipient(s) of the email\n",
    "            recipients = message[\"To\"]\n",
    "\n",
    "            # Get the body of the email\n",
    "            if message.is_multipart():\n",
    "                for part in message.walk():\n",
    "                    content_type = part.get_content_type()\n",
    "                    content_disposition = str(part.get(\"Content-Disposition\"))\n",
    "                    if content_type == \"text/plain\" and \"attachment\" not in content_disposition:\n",
    "                        body = part.get_payload()\n",
    "                        break\n",
    "            else:\n",
    "                body = message.get_payload()\n",
    "            \n",
    "            content.append([subject, sender, body, recipients, 1 if ham_or_spam == \"spam\" else 0])\n"
   ]
  },
  {
   "cell_type": "code",
   "execution_count": 6,
   "metadata": {},
   "outputs": [
    {
     "data": {
      "text/html": [
       "<div>\n",
       "<style scoped>\n",
       "    .dataframe tbody tr th:only-of-type {\n",
       "        vertical-align: middle;\n",
       "    }\n",
       "\n",
       "    .dataframe tbody tr th {\n",
       "        vertical-align: top;\n",
       "    }\n",
       "\n",
       "    .dataframe thead th {\n",
       "        text-align: right;\n",
       "    }\n",
       "</style>\n",
       "<table border=\"1\" class=\"dataframe\">\n",
       "  <thead>\n",
       "    <tr style=\"text-align: right;\">\n",
       "      <th></th>\n",
       "      <th>Subject</th>\n",
       "      <th>Sender</th>\n",
       "      <th>Body</th>\n",
       "      <th>Recipient</th>\n",
       "      <th>Spam</th>\n",
       "    </tr>\n",
       "  </thead>\n",
       "  <tbody>\n",
       "    <tr>\n",
       "      <th>0</th>\n",
       "      <td>Re: New Sequences Window</td>\n",
       "      <td>Robert Elz &lt;kre@munnari.OZ.AU&gt;</td>\n",
       "      <td>Date:        Wed, 21 Aug 2002 10:54:46 -05...</td>\n",
       "      <td>Chris Garrigues &lt;cwg-dated-1030377287.06fa6d@D...</td>\n",
       "      <td>0</td>\n",
       "    </tr>\n",
       "    <tr>\n",
       "      <th>1</th>\n",
       "      <td>[zzzzteana] RE: Alexander</td>\n",
       "      <td>Steve Burt &lt;Steve_Burt@cursor-system.com&gt;</td>\n",
       "      <td>Martin A posted:\\nTassos Papadopoulos, the Gre...</td>\n",
       "      <td>\"'zzzzteana@yahoogroups.com'\" &lt;zzzzteana@yahoo...</td>\n",
       "      <td>0</td>\n",
       "    </tr>\n",
       "    <tr>\n",
       "      <th>2</th>\n",
       "      <td>[zzzzteana] Moscow bomber</td>\n",
       "      <td>\"Tim Chapman\" &lt;timc@2ubh.com&gt;</td>\n",
       "      <td>Man Threatens Explosion In Moscow \\n\\nThursday...</td>\n",
       "      <td>zzzzteana &lt;zzzzteana@yahoogroups.com&gt;</td>\n",
       "      <td>0</td>\n",
       "    </tr>\n",
       "    <tr>\n",
       "      <th>3</th>\n",
       "      <td>[IRR] Klez: The Virus That  Won't Die</td>\n",
       "      <td>Monty Solomon &lt;monty@roscom.com&gt;</td>\n",
       "      <td>Klez: The Virus That Won't Die\\n \\nAlready the...</td>\n",
       "      <td>undisclosed-recipient: ;</td>\n",
       "      <td>0</td>\n",
       "    </tr>\n",
       "    <tr>\n",
       "      <th>4</th>\n",
       "      <td>Re: [zzzzteana] Nothing like mama used to make</td>\n",
       "      <td>Stewart Smith &lt;Stewart.Smith@ee.ed.ac.uk&gt;</td>\n",
       "      <td>&gt;  in adding cream to spaghetti carbonara, whi...</td>\n",
       "      <td>zzzzteana@yahoogroups.com</td>\n",
       "      <td>0</td>\n",
       "    </tr>\n",
       "  </tbody>\n",
       "</table>\n",
       "</div>"
      ],
      "text/plain": [
       "                                          Subject  \\\n",
       "0                        Re: New Sequences Window   \n",
       "1                       [zzzzteana] RE: Alexander   \n",
       "2                       [zzzzteana] Moscow bomber   \n",
       "3           [IRR] Klez: The Virus That  Won't Die   \n",
       "4  Re: [zzzzteana] Nothing like mama used to make   \n",
       "\n",
       "                                      Sender  \\\n",
       "0             Robert Elz <kre@munnari.OZ.AU>   \n",
       "1  Steve Burt <Steve_Burt@cursor-system.com>   \n",
       "2              \"Tim Chapman\" <timc@2ubh.com>   \n",
       "3           Monty Solomon <monty@roscom.com>   \n",
       "4  Stewart Smith <Stewart.Smith@ee.ed.ac.uk>   \n",
       "\n",
       "                                                Body  \\\n",
       "0      Date:        Wed, 21 Aug 2002 10:54:46 -05...   \n",
       "1  Martin A posted:\\nTassos Papadopoulos, the Gre...   \n",
       "2  Man Threatens Explosion In Moscow \\n\\nThursday...   \n",
       "3  Klez: The Virus That Won't Die\\n \\nAlready the...   \n",
       "4  >  in adding cream to spaghetti carbonara, whi...   \n",
       "\n",
       "                                           Recipient Spam  \n",
       "0  Chris Garrigues <cwg-dated-1030377287.06fa6d@D...    0  \n",
       "1  \"'zzzzteana@yahoogroups.com'\" <zzzzteana@yahoo...    0  \n",
       "2              zzzzteana <zzzzteana@yahoogroups.com>    0  \n",
       "3                           undisclosed-recipient: ;    0  \n",
       "4                          zzzzteana@yahoogroups.com    0  "
      ]
     },
     "execution_count": 6,
     "metadata": {},
     "output_type": "execute_result"
    }
   ],
   "source": [
    "data_representation = np.array(content)\n",
    "df = pd.DataFrame(data_representation, columns = [\"Subject\", \"Sender\", \"Body\", \"Recipient\", \"Spam\"])\n",
    "df.head()\n"
   ]
  },
  {
   "attachments": {},
   "cell_type": "markdown",
   "metadata": {},
   "source": [
    "### 3. Data Exploration"
   ]
  },
  {
   "cell_type": "code",
   "execution_count": 7,
   "metadata": {},
   "outputs": [
    {
     "data": {
      "text/html": [
       "<div>\n",
       "<style scoped>\n",
       "    .dataframe tbody tr th:only-of-type {\n",
       "        vertical-align: middle;\n",
       "    }\n",
       "\n",
       "    .dataframe tbody tr th {\n",
       "        vertical-align: top;\n",
       "    }\n",
       "\n",
       "    .dataframe thead th {\n",
       "        text-align: right;\n",
       "    }\n",
       "</style>\n",
       "<table border=\"1\" class=\"dataframe\">\n",
       "  <thead>\n",
       "    <tr style=\"text-align: right;\">\n",
       "      <th></th>\n",
       "      <th>Subject</th>\n",
       "      <th>Sender</th>\n",
       "      <th>Body</th>\n",
       "      <th>Recipient</th>\n",
       "      <th>Spam</th>\n",
       "    </tr>\n",
       "  </thead>\n",
       "  <tbody>\n",
       "    <tr>\n",
       "      <th>2501</th>\n",
       "      <td>Life Insurance - Why Pay More?</td>\n",
       "      <td>12a1mailbot1@web.de</td>\n",
       "      <td>&lt;!DOCTYPE HTML PUBLIC \"-//W3C//DTD HTML 4.0 Tr...</td>\n",
       "      <td>&lt;dcek1a1@netsgo.com&gt;</td>\n",
       "      <td>1</td>\n",
       "    </tr>\n",
       "    <tr>\n",
       "      <th>2502</th>\n",
       "      <td>[ILUG] Guaranteed to lose 10-12 lbs in 30 days...</td>\n",
       "      <td>\"Slim Down\" &lt;taylor@s3.serveimage.com&gt;</td>\n",
       "      <td>1) Fight The Risk of Cancer!\\nhttp://www.adcli...</td>\n",
       "      <td>&lt;ilug@linux.ie&gt;</td>\n",
       "      <td>1</td>\n",
       "    </tr>\n",
       "    <tr>\n",
       "      <th>2503</th>\n",
       "      <td>Guaranteed to lose 10-12 lbs in 30 days       ...</td>\n",
       "      <td>\"Slim Down\" &lt;sabrina@mx3.1premio.com&gt;</td>\n",
       "      <td>1) Fight The Risk of Cancer!\\nhttp://www.adcli...</td>\n",
       "      <td>&lt;zzzz@spamassassin.taint.org&gt;</td>\n",
       "      <td>1</td>\n",
       "    </tr>\n",
       "    <tr>\n",
       "      <th>2504</th>\n",
       "      <td>Re: Fw: User Name &amp; Password to Membership To ...</td>\n",
       "      <td>Account Services &lt;wsup@playful.com&gt;</td>\n",
       "      <td>##############################################...</td>\n",
       "      <td>zzzz@spamassassin.taint.org</td>\n",
       "      <td>1</td>\n",
       "    </tr>\n",
       "    <tr>\n",
       "      <th>2505</th>\n",
       "      <td>[ILUG-Social] re: Guaranteed to lose 10-12 lbs...</td>\n",
       "      <td>\"Slim n Trim\" &lt;yenene@mx2.1premio.com&gt;</td>\n",
       "      <td>I thought you might like these:\\n1) Slim Down ...</td>\n",
       "      <td>&lt;social@linux.ie&gt;</td>\n",
       "      <td>1</td>\n",
       "    </tr>\n",
       "  </tbody>\n",
       "</table>\n",
       "</div>"
      ],
      "text/plain": [
       "                                                Subject  \\\n",
       "2501                     Life Insurance - Why Pay More?   \n",
       "2502  [ILUG] Guaranteed to lose 10-12 lbs in 30 days...   \n",
       "2503  Guaranteed to lose 10-12 lbs in 30 days       ...   \n",
       "2504  Re: Fw: User Name & Password to Membership To ...   \n",
       "2505  [ILUG-Social] re: Guaranteed to lose 10-12 lbs...   \n",
       "\n",
       "                                      Sender  \\\n",
       "2501                     12a1mailbot1@web.de   \n",
       "2502  \"Slim Down\" <taylor@s3.serveimage.com>   \n",
       "2503   \"Slim Down\" <sabrina@mx3.1premio.com>   \n",
       "2504     Account Services <wsup@playful.com>   \n",
       "2505  \"Slim n Trim\" <yenene@mx2.1premio.com>   \n",
       "\n",
       "                                                   Body  \\\n",
       "2501  <!DOCTYPE HTML PUBLIC \"-//W3C//DTD HTML 4.0 Tr...   \n",
       "2502  1) Fight The Risk of Cancer!\\nhttp://www.adcli...   \n",
       "2503  1) Fight The Risk of Cancer!\\nhttp://www.adcli...   \n",
       "2504  ##############################################...   \n",
       "2505  I thought you might like these:\\n1) Slim Down ...   \n",
       "\n",
       "                          Recipient Spam  \n",
       "2501           <dcek1a1@netsgo.com>    1  \n",
       "2502                <ilug@linux.ie>    1  \n",
       "2503  <zzzz@spamassassin.taint.org>    1  \n",
       "2504    zzzz@spamassassin.taint.org    1  \n",
       "2505              <social@linux.ie>    1  "
      ]
     },
     "execution_count": 7,
     "metadata": {},
     "output_type": "execute_result"
    }
   ],
   "source": [
    "df[df[\"Spam\"]==1].head()"
   ]
  },
  {
   "cell_type": "code",
   "execution_count": 9,
   "metadata": {},
   "outputs": [
    {
     "name": "stdout",
     "output_type": "stream",
     "text": [
      "Date:        Wed, 21 Aug 2002 10:54:46 -0500\n",
      "    From:        Chris Garrigues <cwg-dated-1030377287.06fa6d@DeepEddy.Com>\n",
      "    Message-ID:  <1029945287.4797.TMDA@deepeddy.vircio.com>\n",
      "\n",
      "\n",
      "  | I can't reproduce this error.\n",
      "\n",
      "For me it is very repeatable... (like every time, without fail).\n",
      "\n",
      "This is the debug log of the pick happening ...\n",
      "\n",
      "18:19:03 Pick_It {exec pick +inbox -list -lbrace -lbrace -subject ftp -rbrace -rbrace} {4852-4852 -sequence mercury}\n",
      "18:19:03 exec pick +inbox -list -lbrace -lbrace -subject ftp -rbrace -rbrace 4852-4852 -sequence mercury\n",
      "18:19:04 Ftoc_PickMsgs {{1 hit}}\n",
      "18:19:04 Marking 1 hits\n",
      "18:19:04 tkerror: syntax error in expression \"int ...\n",
      "\n",
      "Note, if I run the pick command by hand ...\n",
      "\n",
      "delta$ pick +inbox -list -lbrace -lbrace -subject ftp -rbrace -rbrace  4852-4852 -sequence mercury\n",
      "1 hit\n",
      "\n",
      "That's where the \"1 hit\" comes from (obviously).  The version of nmh I'm\n",
      "using is ...\n",
      "\n",
      "delta$ pick -version\n",
      "pick -- nmh-1.0.4 [compiled on fuchsia.cs.mu.OZ.AU at Sun Mar 17 14:55:56 ICT 2002]\n",
      "\n",
      "And the relevant part of my .mh_profile ...\n",
      "\n",
      "delta$ mhparam pick\n",
      "-seq sel -list\n",
      "\n",
      "\n",
      "Since the pick command works, the sequence (actually, both of them, the\n",
      "one that's explicit on the command line, from the search popup, and the\n",
      "one that comes from .mh_profile) do get created.\n",
      "\n",
      "kre\n",
      "\n",
      "ps: this is still using the version of the code form a day ago, I haven't\n",
      "been able to reach the cvs repository today (local routing issue I think).\n",
      "\n",
      "\n",
      "\n",
      "_______________________________________________\n",
      "Exmh-workers mailing list\n",
      "Exmh-workers@redhat.com\n",
      "https://listman.redhat.com/mailman/listinfo/exmh-workers\n"
     ]
    }
   ],
   "source": [
    "print(df.iloc[0][\"Body\"].strip())"
   ]
  },
  {
   "cell_type": "code",
   "execution_count": 10,
   "metadata": {},
   "outputs": [
    {
     "name": "stdout",
     "output_type": "stream",
     "text": [
      "    Date:        Wed, 21 Aug 2002 10:54:46 -0500\n",
      "    From:        Chris Garrigues <cwg-dated-1030377287.06fa6d@DeepEddy.Com>\n",
      "    Message-ID:  <1029945287.4797.TMDA@deepeddy.vircio.com>\n",
      "\n",
      "\n",
      "  | I can't reproduce this error.\n",
      "\n",
      "For me it is very repeatable... (like every time, without fail).\n",
      "\n",
      "This is the debug log of the pick happening ...\n",
      "\n",
      "18:19:03 Pick_It {exec pick +inbox -list -lbrace -lbrace -subject ftp -rbrace -rbrace} {4852-4852 -sequence mercury}\n",
      "18:19:03 exec pick +inbox -list -lbrace -lbrace -subject ftp -rbrace -rbrace 4852-4852 -sequence mercury\n",
      "18:19:04 Ftoc_PickMsgs {{1 hit}}\n",
      "18:19:04 Marking 1 hits\n",
      "18:19:04 tkerror: syntax error in expression \"int ...\n",
      "\n",
      "Note, if I run the pick command by hand ...\n",
      "\n",
      "delta$ pick +inbox -list -lbrace -lbrace -subject ftp -rbrace -rbrace  4852-4852 -sequence mercury\n",
      "1 hit\n",
      "\n",
      "That's where the \"1 hit\" comes from (obviously).  The version of nmh I'm\n",
      "using is ...\n",
      "\n",
      "delta$ pick -version\n",
      "pick -- nmh-1.0.4 [compiled on fuchsia.cs.mu.OZ.AU at Sun Mar 17 14:55:56 ICT 2002]\n",
      "\n",
      "And the relevant part of my .mh_profile ...\n",
      "\n",
      "delta$ mhparam pick\n",
      "-seq sel -list\n",
      "\n",
      "\n",
      "Since the pick command works, the sequence (actually, both of them, the\n",
      "one that's explicit on the command line, from the search popup, and the\n",
      "one that comes from .mh_profile) do get created.\n",
      "\n",
      "kre\n",
      "\n",
      "ps: this is still using the version of the code form a day ago, I haven't\n",
      "been able to reach the cvs repository today (local routing issue I think).\n",
      "\n",
      "\n",
      "\n",
      "_______________________________________________\n",
      "Exmh-workers mailing list\n",
      "Exmh-workers@redhat.com\n",
      "https://listman.redhat.com/mailman/listinfo/exmh-workers\n",
      "\n",
      "\n"
     ]
    }
   ],
   "source": [
    "print(df.iloc[0][\"Body\"])"
   ]
  },
  {
   "attachments": {},
   "cell_type": "markdown",
   "metadata": {},
   "source": [
    "### 4. Preprocessing"
   ]
  },
  {
   "cell_type": "code",
   "execution_count": 27,
   "metadata": {},
   "outputs": [],
   "source": [
    "from modules.processing import Process\n",
    "import nltk"
   ]
  },
  {
   "cell_type": "code",
   "execution_count": 28,
   "metadata": {},
   "outputs": [
    {
     "name": "stderr",
     "output_type": "stream",
     "text": [
      "[nltk_data] Downloading package stopwords to\n",
      "[nltk_data]     C:\\Users\\amira\\AppData\\Roaming\\nltk_data...\n",
      "[nltk_data]   Package stopwords is already up-to-date!\n",
      "[nltk_data] Downloading package punkt to\n",
      "[nltk_data]     C:\\Users\\amira\\AppData\\Roaming\\nltk_data...\n",
      "[nltk_data]   Package punkt is already up-to-date!\n"
     ]
    },
    {
     "data": {
      "text/plain": [
       "True"
      ]
     },
     "execution_count": 28,
     "metadata": {},
     "output_type": "execute_result"
    }
   ],
   "source": [
    "nltk.download('stopwords')\n",
    "nltk.download('punkt')"
   ]
  },
  {
   "cell_type": "code",
   "execution_count": 29,
   "metadata": {},
   "outputs": [
    {
     "ename": "AttributeError",
     "evalue": "type object 'Process' has no attribute 'lem_words'",
     "output_type": "error",
     "traceback": [
      "\u001b[1;31m---------------------------------------------------------------------------\u001b[0m",
      "\u001b[1;31mAttributeError\u001b[0m                            Traceback (most recent call last)",
      "\u001b[1;32mc:\\Users\\amira\\OneDrive\\Documents\\GitHub\\Projects\\emailspamclassifier\\classifier.ipynb Cell 17\u001b[0m in \u001b[0;36m<cell line: 2>\u001b[1;34m()\u001b[0m\n\u001b[0;32m      <a href='vscode-notebook-cell:/c%3A/Users/amira/OneDrive/Documents/GitHub/Projects/emailspamclassifier/classifier.ipynb#X22sZmlsZQ%3D%3D?line=0'>1</a>\u001b[0m processed_text \u001b[39m=\u001b[39m []\n\u001b[0;32m      <a href='vscode-notebook-cell:/c%3A/Users/amira/OneDrive/Documents/GitHub/Projects/emailspamclassifier/classifier.ipynb#X22sZmlsZQ%3D%3D?line=1'>2</a>\u001b[0m \u001b[39mfor\u001b[39;00m index, row \u001b[39min\u001b[39;00m df\u001b[39m.\u001b[39miterrows():\n\u001b[1;32m----> <a href='vscode-notebook-cell:/c%3A/Users/amira/OneDrive/Documents/GitHub/Projects/emailspamclassifier/classifier.ipynb#X22sZmlsZQ%3D%3D?line=2'>3</a>\u001b[0m     tx \u001b[39m=\u001b[39m Process\u001b[39m.\u001b[39;49mlem_words(df\u001b[39m.\u001b[39mat[index, \u001b[39m\"\u001b[39m\u001b[39mBody\u001b[39m\u001b[39m\"\u001b[39m])\n\u001b[0;32m      <a href='vscode-notebook-cell:/c%3A/Users/amira/OneDrive/Documents/GitHub/Projects/emailspamclassifier/classifier.ipynb#X22sZmlsZQ%3D%3D?line=3'>4</a>\u001b[0m     \u001b[39m# tx = Process.stop_word_removal(tx)\u001b[39;00m\n\u001b[0;32m      <a href='vscode-notebook-cell:/c%3A/Users/amira/OneDrive/Documents/GitHub/Projects/emailspamclassifier/classifier.ipynb#X22sZmlsZQ%3D%3D?line=4'>5</a>\u001b[0m     processed_text\u001b[39m.\u001b[39mappend(tx)\n",
      "\u001b[1;31mAttributeError\u001b[0m: type object 'Process' has no attribute 'lem_words'"
     ]
    }
   ],
   "source": [
    "processed_text = []\n",
    "for index, row in df.iterrows():\n",
    "    tx = Process.lem_words(df.at[index, \"Body\"])\n",
    "    # tx = Process.stop_word_removal(tx)\n",
    "    processed_text.append(tx)\n",
    "\n",
    "df[\"Processed\"] = processed_text\n",
    "df.head()"
   ]
  },
  {
   "cell_type": "code",
   "execution_count": 18,
   "metadata": {},
   "outputs": [
    {
     "name": "stdout",
     "output_type": "stream",
     "text": [
      "    Date:        Wed, 21 Aug 2002 10:54:46 -0500\n",
      "    From:        Chris Garrigues <cwg-dated-1030377287.06fa6d@DeepEddy.Com>\n",
      "    Message-ID:  <1029945287.4797.TMDA@deepeddy.vircio.com>\n",
      "\n",
      "\n",
      "  | I can't reproduce this error.\n",
      "\n",
      "For me it is very repeatable... (like every time, without fail).\n",
      "\n",
      "This is the debug log of the pick happening ...\n",
      "\n",
      "18:19:03 Pick_It {exec pick +inbox -list -lbrace -lbrace -subject ftp -rbrace -rbrace} {4852-4852 -sequence mercury}\n",
      "18:19:03 exec pick +inbox -list -lbrace -lbrace -subject ftp -rbrace -rbrace 4852-4852 -sequence mercury\n",
      "18:19:04 Ftoc_PickMsgs {{1 hit}}\n",
      "18:19:04 Marking 1 hits\n",
      "18:19:04 tkerror: syntax error in expression \"int ...\n",
      "\n",
      "Note, if I run the pick command by hand ...\n",
      "\n",
      "delta$ pick +inbox -list -lbrace -lbrace -subject ftp -rbrace -rbrace  4852-4852 -sequence mercury\n",
      "1 hit\n",
      "\n",
      "That's where the \"1 hit\" comes from (obviously).  The version of nmh I'm\n",
      "using is ...\n",
      "\n",
      "delta$ pick -version\n",
      "pick -- nmh-1.0.4 [compiled on fuchsia.cs.mu.OZ.AU at Sun Mar 17 14:55:56 ICT 2002]\n",
      "\n",
      "And the relevant part of my .mh_profile ...\n",
      "\n",
      "delta$ mhparam pick\n",
      "-seq sel -list\n",
      "\n",
      "\n",
      "Since the pick command works, the sequence (actually, both of them, the\n",
      "one that's explicit on the command line, from the search popup, and the\n",
      "one that comes from .mh_profile) do get created.\n",
      "\n",
      "kre\n",
      "\n",
      "ps: this is still using the version of the code form a day ago, I haven't\n",
      "been able to reach the cvs repository today (local routing issue I think).\n",
      "\n",
      "\n",
      "\n",
      "_______________________________________________\n",
      "Exmh-workers mailing list\n",
      "Exmh-workers@redhat.com\n",
      "https://listman.redhat.com/mailman/listinfo/exmh-workers\n",
      "\n",
      "\n"
     ]
    }
   ],
   "source": [
    "print(df[\"Body\"].iloc[0])\n"
   ]
  },
  {
   "cell_type": "code",
   "execution_count": 23,
   "metadata": {},
   "outputs": [
    {
     "name": "stdout",
     "output_type": "stream",
     "text": [
      "date : wed , 21 aug 2002 10:54:46 -0500 from : chri garrigu < cwg-dated-1030377287.06fa6d @ deepeddy.com > message-id : < 1029945287.4797.tmda @ deepeddy.vircio.com > | i ca n't reproduc thi error . for me it is veri repeat ... ( like everi time , without fail ) . thi is the debug log of the pick happen ... 18:19:03 pick_it { exec pick +inbox -list -lbrace -lbrace -subject ftp -rbrace -rbrace } { 4852-4852 -sequenc mercuri } 18:19:03 exec pick +inbox -list -lbrace -lbrace -subject ftp -rbrace -rbrace 4852-4852 -sequenc mercuri 18:19:04 ftoc_pickmsg { { 1 hit } } 18:19:04 mark 1 hit 18:19:04 tkerror : syntax error in express `` int ... note , if i run the pick command by hand ... delta $ pick +inbox -list -lbrace -lbrace -subject ftp -rbrace -rbrace 4852-4852 -sequenc mercuri 1 hit that 's where the `` 1 hit '' come from ( obvious ) . the version of nmh i'm use is ... delta $ pick -version pick -- nmh-1.0.4 [ compil on fuchsia.cs.mu.oz.au at sun mar 17 14:55:56 ict 2002 ] and the relev part of my .mh_profil ... delta $ mhparam pick -seq sel -list sinc the pick command work , the sequenc ( actual , both of them , the one that 's explicit on the command line , from the search popup , and the one that come from .mh_profil ) do get creat . kre ps : thi is still use the version of the code form a day ago , i haven't been abl to reach the cv repositori today ( local rout issu i think ) . _______________________________________________ exmh-work mail list exmh-work @ redhat.com http : //listman.redhat.com/mailman/listinfo/exmh-work\n"
     ]
    }
   ],
   "source": [
    "print(df[\"Processed\"].iloc[0])"
   ]
  },
  {
   "cell_type": "code",
   "execution_count": 45,
   "metadata": {},
   "outputs": [],
   "source": [
    "from sklearn.model_selection import train_test_split"
   ]
  },
  {
   "cell_type": "code",
   "execution_count": 46,
   "metadata": {},
   "outputs": [],
   "source": [
    "X_train, X_test, Y_train, Y_test = train_test_split(df[\"Body\"], df[\"Spam\"], test_size=0.2, random_state=42)"
   ]
  }
 ],
 "metadata": {
  "kernelspec": {
   "display_name": "Python 3",
   "language": "python",
   "name": "python3"
  },
  "language_info": {
   "codemirror_mode": {
    "name": "ipython",
    "version": 3
   },
   "file_extension": ".py",
   "mimetype": "text/x-python",
   "name": "python",
   "nbconvert_exporter": "python",
   "pygments_lexer": "ipython3",
   "version": "3.10.11"
  },
  "orig_nbformat": 4
 },
 "nbformat": 4,
 "nbformat_minor": 2
}
